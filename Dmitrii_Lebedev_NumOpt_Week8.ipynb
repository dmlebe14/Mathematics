{
 "cells": [
  {
   "cell_type": "code",
   "execution_count": 30,
   "metadata": {
    "colab": {
     "base_uri": "https://localhost:8080/",
     "height": 710
    },
    "executionInfo": {
     "elapsed": 241,
     "status": "error",
     "timestamp": 1653776282933,
     "user": {
      "displayName": "Lisandro Cesaratto",
      "userId": "14718933369871279301"
     },
     "user_tz": -120
    },
    "id": "OhwfM3dkORI2",
    "outputId": "4096e5e8-83f9-4cd8-8fde-9326757f9b66"
   },
   "outputs": [
    {
     "name": "stdout",
     "output_type": "stream",
     "text": [
      "Method converges after 7 iterations\n",
      "[6. 1.]\n"
     ]
    }
   ],
   "source": [
    "import numpy as np\n",
    "from numpy.linalg import norm\n",
    "import matplotlib.pyplot as plt\n",
    "\n",
    "\n",
    "def sigmoidal(t):\n",
    "\treturn 1/(1 + np.exp(-t))\n",
    "\n",
    "\n",
    "def dsigmoidal(t):\n",
    "\ts = sigmoidal(t)\n",
    "\treturn s * (1 - s)\n",
    "\n",
    "\n",
    "def generate_data(gamma=0.0):\n",
    "\tnp.random.seed(99)\n",
    "\tn = 10\n",
    "\tt = np.random.rand(n) - 0.5\n",
    "\tnoise = np.random.randn(n)*gamma\n",
    "\tsignal = sigmoidal(t*6. + 1.)\n",
    "\talpha = signal + noise\n",
    "\treturn t, alpha\n",
    "\n",
    "\n",
    "def plot(x, gamma):\n",
    "\tt, alpha = generate_data(gamma)\n",
    "\tt_axis = np.linspace(-3, 3, 50)\n",
    "\tplt.scatter(t, alpha)\n",
    "\tplt.plot(t_axis, sigmoidal(t_axis*x[0] + x[1]))\n",
    "\tplt.show()\n",
    "\n",
    "\n",
    "def convergence_plot(delta_x_list):\n",
    "\tplt.plot(delta_x_list)\n",
    "\tplt.yscale(\"log\")\n",
    "\tplt.show()\n",
    "\n",
    "\n",
    "def armijo(f, x, g, d, rho=0.5, c=0.01, alpha=1, **kwargs):\n",
    "\t\"\"\"Armijo line search\n",
    "\n",
    "\tParameters:\n",
    "\t\tf: callable, Function to be minimized\n",
    "\t\tx: ndarray, current iterate x\n",
    "\t\tg: ndarray, current gradient of f() at x\n",
    "\t\td: ndarray, current descent direction, e.g. -g\n",
    "\t\trho: [float], scaling factor of stepsize\n",
    "\t\tc: [float], factor in minimum decrease condition\n",
    "\t\talpha: [float], start step size\n",
    "\t\t**kwargs: [keyword args]\n",
    "\tReturns: float\"\"\"\n",
    "\tf_x = f(x)\n",
    "\n",
    "\tgTd = (g.T.dot(d))[0]\n",
    "\twhile f(x + alpha*d[:,0]) > f_x + c*alpha*gTd:\n",
    "\t\talpha *= rho\n",
    "\treturn alpha\n",
    "\n",
    "t, alpha = generate_data()\n",
    "# print(t, alpha)\n",
    "\n",
    "\n",
    "def F(x, gamma=0):\n",
    "\tFx = np.zeros([10, 1])\n",
    "\tfor i in range(0, 10):\n",
    "\t\tFx[i] = sigmoidal(x[0]*t[i] + x[1]) - alpha[i] + gamma * eps[i]\n",
    "\treturn Fx\n",
    "\n",
    "\n",
    "\n",
    "def J(x):\n",
    "\tj = np.zeros([10, 2])\n",
    "\tfor i in range(0, 10):\n",
    "\t\tj[i][0] = sigmoidal(x[0]*t[i] + x[1]) * (1 - sigmoidal(x[0]*t[i] + x[1])) * t[i]\n",
    "\tfor k in range(0, 10):\n",
    "\t\tj[k][1] = sigmoidal(x[0]*t[k] + x[1]) * (1 - sigmoidal(x[0]*t[k] + x[1]))\n",
    "\treturn j\n",
    "\n",
    "def f(x):\n",
    "\tFx = F(x)\n",
    "\treturn 0.5 * np.linalg.norm(Fx) ** 2\n",
    "\n",
    "def GN(x, tol, max_iter, gamma):\n",
    "    delta = list()\n",
    "    for i in range(0, max_iter):\n",
    "        B = np.dot(J(x).T, J(x))\n",
    "        delta_x = np.linalg.solve(B, -np.dot(J(x).T, F(x, gamma)))\n",
    "        tau = armijo(f, x, J(x).T.dot(F(x, gamma)), -J(x).T.dot(F(x, gamma)))\n",
    "\t\t# print(\"x: \", x)\n",
    "\t\t# print(\"tau:\", tau)\n",
    "\t\t# print(\"delta_x: \", delta_x[:,0])\n",
    "        delta.append(np.linalg.norm(delta_x[:,0]))\n",
    "        if np.linalg.norm(delta_x[:,0]) < tol:\n",
    "            print(f\"Method converges after {i+1} iterations\")\n",
    "            return x, delta\n",
    "        x = x + tau*delta_x[:,0]\n",
    "    print(\"Method didn't converge. Maximum iterations reached\")\n",
    "    return x, delta\n",
    "\n",
    "\t\n",
    "eps = np.random.randn(10)\n",
    "\n",
    "x = np.array([1, 2])\n",
    "# print(F(x))\n",
    "# print(J(x))\n",
    "gamma = 0\n",
    "xx, delta = GN(x, 1e-6, 100, gamma)\n",
    "print(xx)"
   ]
  },
  {
   "cell_type": "code",
   "execution_count": 33,
   "metadata": {},
   "outputs": [
    {
     "name": "stdout",
     "output_type": "stream",
     "text": [
      "Method didn't converge. Maximum iterations reached\n",
      "[6.00727216 1.07344717]\n"
     ]
    }
   ],
   "source": [
    "x = np.array([1, 2])\n",
    "gamma = 5e-2\n",
    "xx, delta = GN(x, 1e-6, 100, gamma)\n",
    "print(xx)"
   ]
  },
  {
   "cell_type": "code",
   "execution_count": 32,
   "metadata": {},
   "outputs": [
    {
     "name": "stdout",
     "output_type": "stream",
     "text": [
      "Method didn't converge. Maximum iterations reached\n",
      "[5.99979894 1.00141157]\n"
     ]
    }
   ],
   "source": [
    "x = np.array([1, 2])\n",
    "gamma = 1e-3\n",
    "xx, delta = GN(x, 1e-6, 100, gamma)\n",
    "print(xx)"
   ]
  },
  {
   "cell_type": "code",
   "execution_count": 34,
   "metadata": {},
   "outputs": [
    {
     "name": "stdout",
     "output_type": "stream",
     "text": [
      "Method converges after 7 iterations\n",
      "[6. 1.]\n"
     ]
    },
    {
     "data": {
      "image/png": "[encoded data removed]",
      "text/plain": [
       "<Figure size 432x288 with 1 Axes>"
      ]
     },
     "metadata": {
      "needs_background": "light"
     },
     "output_type": "display_data"
    }
   ],
   "source": [
    "x = np.array([1, 2])\n",
    "gamma = 0\n",
    "xx, delta = GN(x, 1e-6, 100, gamma)\n",
    "print(xx)\n",
    "convergence_plot(delta)"
   ]
  },
  {
   "cell_type": "code",
   "execution_count": 35,
   "metadata": {},
   "outputs": [
    {
     "name": "stdout",
     "output_type": "stream",
     "text": [
      "Method didn't converge. Maximum iterations reached\n",
      "[6.04575189 1.1527869 ]\n"
     ]
    },
    {
     "data": {
      "image/png": "[encoded data removed]",
      "text/plain": [
       "<Figure size 432x288 with 1 Axes>"
      ]
     },
     "metadata": {
      "needs_background": "light"
     },
     "output_type": "display_data"
    }
   ],
   "source": [
    "x = np.array([1, 2])\n",
    "gamma = 1e-1\n",
    "xx, delta = GN(x, 1e-6, 100, gamma)\n",
    "print(xx)\n",
    "convergence_plot(delta)"
   ]
  },
  {
   "cell_type": "code",
   "execution_count": 39,
   "metadata": {},
   "outputs": [
    {
     "name": "stdout",
     "output_type": "stream",
     "text": [
      "Method didn't converge. Maximum iterations reached\n",
      "[5.99979894 1.00141157]\n"
     ]
    },
    {
     "data": {
      "image/png": "[encoded data removed]",
      "text/plain": [
       "<Figure size 432x288 with 1 Axes>"
      ]
     },
     "metadata": {
      "needs_background": "light"
     },
     "output_type": "display_data"
    }
   ],
   "source": [
    "''' \n",
    "How do the cases γ = 1e-1, 1e-3, 0 differ? Which behaviour should be observed for γ = 0?\n",
    "\n",
    "The plots with the values γ = 1e-1, 1e-3 reach certain points and then stop converging, \n",
    "whereas γ = 0 keeps gradually converging until it reaches the stop criterion.\n",
    "\n",
    "'''\n",
    "\n",
    "\n",
    "x = np.array([1, 2])\n",
    "gamma = 1e-3\n",
    "xx, delta = GN(x, 1e-6, 100, gamma)\n",
    "print(xx)\n",
    "convergence_plot(delta)"
   ]
  },
  {
   "cell_type": "code",
   "execution_count": null,
   "metadata": {},
   "outputs": [],
   "source": []
  }
 ],
 "metadata": {
  "colab": {
   "authorship_tag": "ABX9TyMfaGhcYEP2ABErEy+npetq",
   "collapsed_sections": [],
   "name": "Untitled0.ipynb",
   "provenance": []
  },
  "interpreter": {
   "hash": "8a9ad9d70b492f192b25128c3175c2ceaf2048dfed5b425660c85153e646bad0"
  },
  "kernelspec": {
   "display_name": "Python 3",
   "language": "python",
   "name": "python3"
  },
  "language_info": {
   "codemirror_mode": {
    "name": "ipython",
    "version": 3
   },
   "file_extension": ".py",
   "mimetype": "text/x-python",
   "name": "python",
   "nbconvert_exporter": "python",
   "pygments_lexer": "ipython3",
   "version": "3.8.8"
  }
 },
 "nbformat": 4,
 "nbformat_minor": 1
}
