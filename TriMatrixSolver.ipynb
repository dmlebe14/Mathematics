{
 "cells": [
  {
   "cell_type": "code",
   "execution_count": 1,
   "id": "5da75639",
   "metadata": {},
   "outputs": [],
   "source": [
    "import numpy as np\n",
    "from scipy.linalg import solve_triangular as st"
   ]
  },
  {
   "cell_type": "code",
   "execution_count": 2,
   "id": "7e6afae0",
   "metadata": {},
   "outputs": [],
   "source": [
    "def solve_tri(A, b, lower=False):\n",
    "    n = len(A)\n",
    "    for i in range(0, n-2):\n",
    "        if A[n-1][i] != 0:\n",
    "            lower = True  # determining whether the matrix is lower triangle or not\n",
    "    nn1 = A.shape  # number of equations\n",
    "    nn2 = b.shape\n",
    "    xx = np.zeros(n, float)\n",
    "    if nn1[1] != nn2[0]:\n",
    "        return print(\"The matrices' dimensions do not coincide.\")\n",
    "    else:        \n",
    "        if not lower:\n",
    "            xx[n-1] = b[n-1] / A[n-1, n-1]\n",
    "            for i in range(n - 2, -1, -1):\n",
    "                sum = b[i]\n",
    "                for j in range(i + 1, n):\n",
    "                    sum = sum - A[i, j] * xx[j]\n",
    "                xx[i] = sum / A[i, i]\n",
    "        else:\n",
    "            xx[0] = b[0] / A[0, 0]\n",
    "            for i in range(1, n):\n",
    "                sum = b[i]\n",
    "                for j in range(i-1, -1, -1):\n",
    "                    sum = sum - A[i, j] * xx[j]\n",
    "                xx[i] = sum / A[i, i]\n",
    "        return xx"
   ]
  },
  {
   "cell_type": "code",
   "execution_count": 3,
   "id": "cb293fb1",
   "metadata": {},
   "outputs": [
    {
     "name": "stdout",
     "output_type": "stream",
     "text": [
      "[[10.  2.  1.  1.]\n",
      " [ 0. 10.  4.  5.]\n",
      " [ 0.  0.  7.  3.]\n",
      " [ 0.  0.  0.  4.]] [1. 2. 3. 4.]\n",
      "[[ 4.  0.  0.  0.]\n",
      " [ 3.  7.  0.  0.]\n",
      " [ 5.  4. 10.  0.]\n",
      " [ 1.  1.  2. 10.]] [1. 2. 3. 4.]\n",
      "The answer is:  [ 0.06 -0.3   0.    1.  ]\n",
      "The answer is:  [0.25       0.17857143 0.10357143 0.33642857]\n",
      "[ 0.06 -0.3   0.    1.  ]\n",
      "[0.25       0.17857143 0.10357143 0.33642857]\n"
     ]
    }
   ],
   "source": [
    "A = np.array([[10, 2, 1, 1], [0, 10, 4, 5], [0, 0, 7, 3], [0, 0, 0, 4]], dtype=float)\n",
    "AA = np.array([[4, 0, 0, 0], [3, 7, 0, 0], [5, 4, 10, 0], [1, 1, 2, 10]], dtype=float)\n",
    "b = np.array([1, 2, 3, 4], dtype=float)\n",
    "print(A, b)\n",
    "print(AA, b)\n",
    "x = st(A, b, lower=False)\n",
    "xx = st(AA, b, lower=True)\n",
    "\n",
    "print(\"The answer is: \", solve_tri(A, b))\n",
    "print(\"The answer is: \", solve_tri(AA, b))\n",
    "print(x)\n",
    "print(xx)"
   ]
  },
  {
   "cell_type": "code",
   "execution_count": 4,
   "id": "928e2227",
   "metadata": {},
   "outputs": [
    {
     "name": "stdout",
     "output_type": "stream",
     "text": [
      "[[101.  21.  11.  11.]\n",
      " [  0. 101.  41.  51.]\n",
      " [  0.   0.  71.  31.]\n",
      " [  0.   0.   0.  41.]] [11. 21. 31. 41.]\n",
      "[[ 41.   0.   0.   0.]\n",
      " [ 31.  71.   0.   0.]\n",
      " [ 51.  41. 101.   0.]\n",
      " [ 11.  11.  21. 101.]] [11. 21. 31. 41.]\n",
      "The answer is:  [ 0.06175865 -0.2970297   0.          1.        ]\n",
      "The answer is:  [0.26829268 0.17863277 0.09894188 0.33669347]\n",
      "[ 0.06175865 -0.2970297   0.          1.        ]\n",
      "[0.26829268 0.17863277 0.09894188 0.33669347]\n"
     ]
    }
   ],
   "source": [
    "A = np.array([[101, 21, 11, 11], [0, 101, 41, 51], [0, 0, 71, 31], [0, 0, 0, 41]], dtype=float)\n",
    "AA = np.array([[41, 0, 0, 0], [31, 71, 0, 0], [51, 41, 101, 0], [11, 11, 21, 101]], dtype=float)\n",
    "b = np.array([11, 21, 31, 41], dtype=float)\n",
    "print(A, b)\n",
    "print(AA, b)\n",
    "x = st(A, b, lower=False)\n",
    "xx = st(AA, b, lower=True)\n",
    "\n",
    "print(\"The answer is: \", solve_tri(A, b))\n",
    "print(\"The answer is: \", solve_tri(AA, b))\n",
    "print(x)\n",
    "print(xx)"
   ]
  },
  {
   "cell_type": "code",
   "execution_count": null,
   "id": "401bda73",
   "metadata": {},
   "outputs": [],
   "source": []
  }
 ],
 "metadata": {
  "kernelspec": {
   "display_name": "Python 3",
   "language": "python",
   "name": "python3"
  },
  "language_info": {
   "codemirror_mode": {
    "name": "ipython",
    "version": 3
   },
   "file_extension": ".py",
   "mimetype": "text/x-python",
   "name": "python",
   "nbconvert_exporter": "python",
   "pygments_lexer": "ipython3",
   "version": "3.8.8"
  }
 },
 "nbformat": 4,
 "nbformat_minor": 5
}
